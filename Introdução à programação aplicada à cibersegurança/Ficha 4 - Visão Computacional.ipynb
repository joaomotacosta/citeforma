{
  "cells": [
    {
      "cell_type": "markdown",
      "metadata": {
        "id": "-DeXKmcjLl89"
      },
      "source": [
        "# Visão computacional"
      ]
    },
    {
      "cell_type": "markdown",
      "metadata": {
        "id": "w8zOtNhKLp-Z"
      },
      "source": [
        "## Detecção de faces"
      ]
    },
    {
      "cell_type": "code",
      "execution_count": null,
      "metadata": {
        "id": "Dtqej-kXM-ay"
      },
      "outputs": [],
      "source": [
        "import cv2 # OpenCV"
      ]
    },
    {
      "cell_type": "code",
      "execution_count": null,
      "metadata": {
        "id": "fXwS3AKTNYYq"
      },
      "outputs": [],
      "source": [
        "imagem = cv2.imread('workplace-1245776_1920.jpg')"
      ]
    },
    {
      "cell_type": "code",
      "execution_count": null,
      "metadata": {
        "colab": {
          "base_uri": "https://localhost:8080/",
          "height": 759
        },
        "id": "e5DIoPIJNeTv",
        "outputId": "cfefc85e-4d0a-407b-9975-c8a8883eb0fd"
      },
      "outputs": [],
      "source": [
        "#cv2.imshow(imagem)\n",
        "from google.colab.patches import cv2_imshow\n",
        "cv2_imshow(imagem)"
      ]
    },
    {
      "cell_type": "code",
      "execution_count": null,
      "metadata": {
        "id": "9yqexKWROVYC"
      },
      "outputs": [],
      "source": [
        "detector_face = cv2.CascadeClassifier('haarcascade_frontalface_default.xml')"
      ]
    },
    {
      "cell_type": "code",
      "execution_count": null,
      "metadata": {
        "colab": {
          "base_uri": "https://localhost:8080/",
          "height": 759
        },
        "id": "jg2Rf8B4Oc3K",
        "outputId": "8fc9a10d-4bea-446d-e51e-18709a0fc873"
      },
      "outputs": [],
      "source": [
        "imagem_cinza = cv2.cvtColor(imagem, cv2.COLOR_BGR2GRAY)\n",
        "cv2_imshow(imagem_cinza)"
      ]
    },
    {
      "cell_type": "code",
      "execution_count": null,
      "metadata": {
        "id": "QXw27smvO53r"
      },
      "outputs": [],
      "source": [
        "deteccoes = detector_face.detectMultiScale(imagem_cinza, scaleFactor=1.3, minSize=(30,30))"
      ]
    },
    {
      "cell_type": "code",
      "execution_count": null,
      "metadata": {
        "colab": {
          "base_uri": "https://localhost:8080/",
          "height": 125
        },
        "id": "Dpp0uLq_PDZW",
        "outputId": "03fe9fd5-a780-477b-ed90-da62aa221e67"
      },
      "outputs": [],
      "source": [
        "deteccoes"
      ]
    },
    {
      "cell_type": "code",
      "execution_count": null,
      "metadata": {
        "colab": {
          "base_uri": "https://localhost:8080/",
          "height": 55
        },
        "id": "l94uzkQBPH8d",
        "outputId": "01f71d1e-96b2-4799-cea9-41f22dcb2124"
      },
      "outputs": [],
      "source": [
        "len(deteccoes)"
      ]
    },
    {
      "cell_type": "code",
      "execution_count": null,
      "metadata": {
        "colab": {
          "base_uri": "https://localhost:8080/",
          "height": 724
        },
        "id": "6hKnWLQfPyvX",
        "outputId": "d85b04ce-b1f6-4271-917b-023dbfa5672c"
      },
      "outputs": [],
      "source": [
        "for (x, y, l, a) in deteccoes:\n",
        "  #print(x, y, l, a)\n",
        "  cv2.rectangle(imagem, (x, y), (x + l, y + a), (0,255,0), 2)\n",
        "cv2_imshow(imagem)"
      ]
    },
    {
      "cell_type": "markdown",
      "metadata": {
        "id": "ZOW43rIEPJg5"
      },
      "source": [
        "## Detecção do corpo"
      ]
    },
    {
      "cell_type": "code",
      "execution_count": null,
      "metadata": {
        "colab": {
          "base_uri": "https://localhost:8080/",
          "height": 331
        },
        "id": "hSEHWX21Bs5i",
        "outputId": "19ce9b2d-c4ab-4097-acbb-6ee99e5fd391"
      },
      "outputs": [],
      "source": [
        "image = cv2.imread('/content/pessoas.jpg')\n",
        "cv2_imshow(image)"
      ]
    },
    {
      "cell_type": "code",
      "execution_count": null,
      "metadata": {
        "colab": {
          "base_uri": "https://localhost:8080/",
          "height": 489
        },
        "id": "VuSlHj5RBwV_",
        "outputId": "f21996fa-bd2f-479f-9bac-48bbbfd32a38"
      },
      "outputs": [],
      "source": [
        "detector_corpo = cv2.CascadeClassifier('/content/fullbody.xml')\n",
        "image_gray = cv2.cvtColor(image, cv2.COLOR_BGR2GRAY)\n",
        "detections = detector_corpo.detectMultiScale(image_gray, scaleFactor=1.1, minSize=(50,50))\n",
        "print(len(detections))\n",
        "print(detections)\n",
        "for (x, y, l, a) in detections:\n",
        "  cv2.rectangle(image, (x, y), (x + l, y + a), (0,255,0), 2)\n",
        "cv2_imshow(image)"
      ]
    }
  ],
  "metadata": {
    "colab": {
      "provenance": []
    },
    "kernelspec": {
      "display_name": "Python 3.10.10 64-bit",
      "language": "python",
      "name": "python3"
    },
    "language_info": {
      "codemirror_mode": {
        "name": "ipython",
        "version": 3
      },
      "file_extension": ".py",
      "mimetype": "text/x-python",
      "name": "python",
      "nbconvert_exporter": "python",
      "pygments_lexer": "ipython3",
      "version": "3.10.10"
    },
    "vscode": {
      "interpreter": {
        "hash": "807cc6a481f25a5b222cd58a3949a299ed2f2634387eaba6775d5c01f71eeb59"
      }
    }
  },
  "nbformat": 4,
  "nbformat_minor": 0
}
