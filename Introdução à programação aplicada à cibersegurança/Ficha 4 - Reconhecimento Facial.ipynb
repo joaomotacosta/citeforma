{
 "cells": [
  {
   "cell_type": "code",
   "execution_count": 1,
   "id": "e9d0e3cc",
   "metadata": {},
   "outputs": [
    {
     "ename": "KeyboardInterrupt",
     "evalue": "",
     "output_type": "error",
     "traceback": [
      "\u001b[1;31m---------------------------------------------------------------------------\u001b[0m",
      "\u001b[1;31mKeyboardInterrupt\u001b[0m                         Traceback (most recent call last)",
      "Cell \u001b[1;32mIn[1], line 12\u001b[0m\n\u001b[0;32m      8\u001b[0m desenho \u001b[39m=\u001b[39m mp\u001b[39m.\u001b[39msolutions\u001b[39m.\u001b[39mdrawing_utils\n\u001b[0;32m     10\u001b[0m \u001b[39mwhile\u001b[39;00m \u001b[39mTrue\u001b[39;00m:\n\u001b[0;32m     11\u001b[0m     \u001b[39m#ler as informacoes da webcam\u001b[39;00m\n\u001b[1;32m---> 12\u001b[0m     verificador, frame \u001b[39m=\u001b[39m webcam\u001b[39m.\u001b[39;49mread()\n\u001b[0;32m     14\u001b[0m     \u001b[39mif\u001b[39;00m \u001b[39mnot\u001b[39;00m verificador:\n\u001b[0;32m     15\u001b[0m         \u001b[39mbreak\u001b[39;00m\n",
      "\u001b[1;31mKeyboardInterrupt\u001b[0m: "
     ]
    },
    {
     "ename": "",
     "evalue": "",
     "output_type": "error",
     "traceback": [
      "\u001b[1;31mThe Kernel crashed while executing code in the the current cell or a previous cell. Please review the code in the cell(s) to identify a possible cause of the failure. Click <a href='https://aka.ms/vscodeJupyterKernelCrash'>here</a> for more info. View Jupyter <a href='command:jupyter.viewOutput'>log</a> for further details."
     ]
    }
   ],
   "source": [
    "import cv2 #opencv\n",
    "import mediapipe as mp\n",
    "\n",
    "#inicializar o opencv e o mediapipe\n",
    "webcam = cv2.VideoCapture(0)\n",
    "solucao_reconhecimento_rosto = mp.solutions.face_detection\n",
    "reconhecedor_rostos = solucao_reconhecimento_rosto.FaceDetection()\n",
    "desenho = mp.solutions.drawing_utils\n",
    "\n",
    "while True:\n",
    "    #ler as informacoes da webcam\n",
    "    verificador, frame = webcam.read()\n",
    "    \n",
    "    if not verificador:\n",
    "        break\n",
    "        \n",
    "    #reconhecer os rostos que tem ali dentro\n",
    "    lista_rostos = reconhecedor_rostos.process(frame)\n",
    "    \n",
    "    if lista_rostos.detections:\n",
    "        for rosto in lista_rostos.detections:\n",
    "            #desenhar os rostos na imagem\n",
    "            desenho.draw_detection(frame, rosto)\n",
    "    \n",
    "    cv2.imshow(\"Rostos na Webcam\", frame)    \n",
    "    \n",
    "    #quando apertar ESC, para o loop\n",
    "    if cv2.waitKey(5) == 27:\n",
    "        break\n",
    "    \n",
    "webcam.release()\n",
    "cv2.destroyAllWindows()"
   ]
  },
  {
   "cell_type": "code",
   "execution_count": null,
   "id": "a0b631b2",
   "metadata": {
    "scrolled": true
   },
   "outputs": [
    {
     "name": "stdout",
     "output_type": "stream",
     "text": [
      "Note: you may need to restart the kernel to use updated packages.\n"
     ]
    },
    {
     "name": "stderr",
     "output_type": "stream",
     "text": [
      "ERROR: Could not find a version that satisfies the requirement mediapipe (from versions: none)\n",
      "ERROR: No matching distribution found for mediapipe\n"
     ]
    }
   ],
   "source": [
    "%pip install mediapipe"
   ]
  },
  {
   "cell_type": "code",
   "execution_count": null,
   "id": "257e78a3",
   "metadata": {},
   "outputs": [],
   "source": []
  }
 ],
 "metadata": {
  "kernelspec": {
   "display_name": "Python 3.10.10 64-bit",
   "language": "python",
   "name": "python3"
  },
  "language_info": {
   "codemirror_mode": {
    "name": "ipython",
    "version": 3
   },
   "file_extension": ".py",
   "mimetype": "text/x-python",
   "name": "python",
   "nbconvert_exporter": "python",
   "pygments_lexer": "ipython3",
   "version": "3.10.10"
  },
  "vscode": {
   "interpreter": {
    "hash": "807cc6a481f25a5b222cd58a3949a299ed2f2634387eaba6775d5c01f71eeb59"
   }
  }
 },
 "nbformat": 4,
 "nbformat_minor": 5
}
